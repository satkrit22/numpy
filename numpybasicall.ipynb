{
 "cells": [
  {
   "cell_type": "markdown",
   "id": "e6318f15-364d-42b6-97d4-cf752426ed30",
   "metadata": {},
   "source": [
    "## Single dimension NumPy Array"
   ]
  },
  {
   "cell_type": "code",
   "execution_count": 1,
   "id": "0b19ef54-5afc-4c66-841e-f69c03fd55f1",
   "metadata": {},
   "outputs": [
    {
     "data": {
      "text/plain": [
       "array([10, 20, 30, 40])"
      ]
     },
     "execution_count": 1,
     "metadata": {},
     "output_type": "execute_result"
    }
   ],
   "source": [
    "import numpy as np\n",
    "n1=np.array([10,20,30,40])\n",
    "n1"
   ]
  },
  {
   "cell_type": "code",
   "execution_count": 2,
   "id": "cf401f70-0d79-44f1-acf4-0a7f8b49e146",
   "metadata": {},
   "outputs": [
    {
     "data": {
      "text/plain": [
       "numpy.ndarray"
      ]
     },
     "execution_count": 2,
     "metadata": {},
     "output_type": "execute_result"
    }
   ],
   "source": [
    "type(n1)"
   ]
  },
  {
   "cell_type": "markdown",
   "id": "1c530ab2-6077-45a6-a774-0d491bb9a759",
   "metadata": {},
   "source": [
    "## MultiDimentional NumPy Array\n"
   ]
  },
  {
   "cell_type": "code",
   "execution_count": 8,
   "id": "871443b8-9b13-4f84-b8f6-4065bcae0131",
   "metadata": {},
   "outputs": [
    {
     "data": {
      "text/plain": [
       "array([[10, 20, 30, 40, 50],\n",
       "       [10, 80, 90, 40, 50],\n",
       "       [30, 50, 80, 40, 50],\n",
       "       [30, 50, 80, 40, 50]])"
      ]
     },
     "execution_count": 8,
     "metadata": {},
     "output_type": "execute_result"
    }
   ],
   "source": [
    "import numpy as np\n",
    "n2=np.array([[10,20,30,40,50],[10,80,90,40,50],[30,50,80,40,50],[30,50,80,40,50]])\n",
    "n2"
   ]
  },
  {
   "cell_type": "markdown",
   "id": "228b331b-a0ff-4025-9493-cc574de1d27f",
   "metadata": {},
   "source": [
    "## Initialize  NumPy Array with 'zeros'"
   ]
  },
  {
   "cell_type": "code",
   "execution_count": 10,
   "id": "1b67a4f4-4b4a-4b31-ba58-4e075c03f40d",
   "metadata": {},
   "outputs": [
    {
     "data": {
      "text/plain": [
       "array([[0., 0., 0., 0., 0.],\n",
       "       [0., 0., 0., 0., 0.],\n",
       "       [0., 0., 0., 0., 0.],\n",
       "       [0., 0., 0., 0., 0.]])"
      ]
     },
     "execution_count": 10,
     "metadata": {},
     "output_type": "execute_result"
    }
   ],
   "source": [
    "n3=np.zeros((4,5))\n",
    "n3"
   ]
  },
  {
   "cell_type": "markdown",
   "id": "dce158d8-2212-46c2-926d-def3433760c3",
   "metadata": {},
   "source": [
    "## Initialization a array of matxix with 'fill' then"
   ]
  },
  {
   "cell_type": "code",
   "execution_count": 12,
   "id": "05745aba-a732-4ee1-8355-bdbff976f3b3",
   "metadata": {},
   "outputs": [
    {
     "data": {
      "text/plain": [
       "array([[10, 10],\n",
       "       [10, 10],\n",
       "       [10, 10],\n",
       "       [10, 10]])"
      ]
     },
     "execution_count": 12,
     "metadata": {},
     "output_type": "execute_result"
    }
   ],
   "source": [
    "n4=np.full((4,2), 10)\n",
    "n4"
   ]
  },
  {
   "cell_type": "markdown",
   "id": "c5a81e41-564a-448e-b29b-469a4096a2f1",
   "metadata": {},
   "source": [
    "## Initialization of NumPy array within a range with using 'arange'"
   ]
  },
  {
   "cell_type": "code",
   "execution_count": 16,
   "id": "fed93657-5f80-4440-90f9-9637742091e6",
   "metadata": {},
   "outputs": [
    {
     "data": {
      "text/plain": [
       "array([10, 12, 14, 16, 18])"
      ]
     },
     "execution_count": 16,
     "metadata": {},
     "output_type": "execute_result"
    }
   ],
   "source": [
    "n5=np.arange(10,20,2)\n",
    "n5"
   ]
  },
  {
   "cell_type": "markdown",
   "id": "1acb6e1d-5b22-4f04-938d-52751699c553",
   "metadata": {},
   "source": [
    "## Initialization of NumPy array within the random numbers"
   ]
  },
  {
   "cell_type": "code",
   "execution_count": 15,
   "id": "c230fbb2-9ece-4411-8980-c1900cbcd831",
   "metadata": {},
   "outputs": [
    {
     "data": {
      "text/plain": [
       "array([752, 315, 779, 915, 468, 777, 799, 451, 985, 353])"
      ]
     },
     "execution_count": 15,
     "metadata": {},
     "output_type": "execute_result"
    }
   ],
   "source": [
    "n7=np.random.randint(100,1000,10)\n",
    "n7"
   ]
  },
  {
   "cell_type": "code",
   "execution_count": 18,
   "id": "9062f825-5e66-420d-8fa8-75314ea0a7a5",
   "metadata": {},
   "outputs": [
    {
     "data": {
      "text/plain": [
       "array([[10, 20, 30],\n",
       "       [10, 80, 90],\n",
       "       [30, 50, 80],\n",
       "       [30, 50, 80]])"
      ]
     },
     "execution_count": 18,
     "metadata": {},
     "output_type": "execute_result"
    }
   ],
   "source": [
    "n8=np.array([[10,20,30],[10,80,90],[30,50,80],[30,50,80]])\n",
    "n8"
   ]
  },
  {
   "cell_type": "code",
   "execution_count": 19,
   "id": "c59f3453-613c-43da-8661-fca978c33eae",
   "metadata": {},
   "outputs": [
    {
     "data": {
      "text/plain": [
       "(4, 3)"
      ]
     },
     "execution_count": 19,
     "metadata": {},
     "output_type": "execute_result"
    }
   ],
   "source": [
    "n8.shape"
   ]
  },
  {
   "cell_type": "code",
   "execution_count": 25,
   "id": "8c947c69-12f2-4761-bb3e-9fb779cf1c56",
   "metadata": {},
   "outputs": [
    {
     "data": {
      "text/plain": [
       "array([[10, 20, 30, 10],\n",
       "       [80, 90, 30, 50],\n",
       "       [80, 30, 50, 80]])"
      ]
     },
     "execution_count": 25,
     "metadata": {},
     "output_type": "execute_result"
    }
   ],
   "source": [
    "n8.shape=(3,4)\n",
    "n8"
   ]
  },
  {
   "cell_type": "markdown",
   "id": "758f852d-7e40-4fd7-9fb8-70b73dec46bb",
   "metadata": {},
   "source": [
    "## Joining NumPy Array"
   ]
  },
  {
   "cell_type": "code",
   "execution_count": 26,
   "id": "c7bf938d-8cd7-4462-88fc-1eaaf0163f1d",
   "metadata": {},
   "outputs": [
    {
     "data": {
      "text/plain": [
       "array([[10, 20, 30],\n",
       "       [30, 50, 90]])"
      ]
     },
     "execution_count": 26,
     "metadata": {},
     "output_type": "execute_result"
    }
   ],
   "source": [
    "import numpy as np\n",
    "a=np.array([10,20,30])\n",
    "b=np.array([30,50,90])\n",
    "\n",
    "np.vstack((a,b)) \n"
   ]
  },
  {
   "cell_type": "code",
   "execution_count": 27,
   "id": "84f65721-b993-4137-9838-6e63dfd97f3e",
   "metadata": {},
   "outputs": [
    {
     "data": {
      "text/plain": [
       "array([10, 20, 30, 30, 50, 90])"
      ]
     },
     "execution_count": 27,
     "metadata": {},
     "output_type": "execute_result"
    }
   ],
   "source": [
    "np.hstack((a,b)) "
   ]
  },
  {
   "cell_type": "code",
   "execution_count": 28,
   "id": "afaf21c8-727a-4bf7-a7c3-7692dea01d01",
   "metadata": {},
   "outputs": [
    {
     "data": {
      "text/plain": [
       "array([[10, 30],\n",
       "       [20, 50],\n",
       "       [30, 90]])"
      ]
     },
     "execution_count": 28,
     "metadata": {},
     "output_type": "execute_result"
    }
   ],
   "source": [
    "np.column_stack((a,b)) "
   ]
  },
  {
   "cell_type": "markdown",
   "id": "c4f2d971-d5b9-473e-ae18-d7e1aa916f11",
   "metadata": {},
   "source": [
    "# NumPy intersection and differences\n"
   ]
  },
  {
   "cell_type": "code",
   "execution_count": 29,
   "id": "ba3d3bf4-0246-4c0d-81b6-5f040a45d1c6",
   "metadata": {},
   "outputs": [
    {
     "data": {
      "text/plain": [
       "array([30, 50])"
      ]
     },
     "execution_count": 29,
     "metadata": {},
     "output_type": "execute_result"
    }
   ],
   "source": [
    "import numpy as np\n",
    "\n",
    "x=np.array([10,20,30,40,50,60])\n",
    "\n",
    "y=np.array([30,50,90,100,120,150])\n",
    "\n",
    "np.intersect1d(x,y)\n"
   ]
  },
  {
   "cell_type": "code",
   "execution_count": 31,
   "id": "eac770c0-5756-4699-9e77-73ccac76d28b",
   "metadata": {},
   "outputs": [
    {
     "data": {
      "text/plain": [
       "array([10, 20, 40, 60])"
      ]
     },
     "execution_count": 31,
     "metadata": {},
     "output_type": "execute_result"
    }
   ],
   "source": [
    "np.setdiff1d(x,y)"
   ]
  },
  {
   "cell_type": "code",
   "execution_count": 32,
   "id": "0035e353-7306-485a-906d-13b40e3885c1",
   "metadata": {},
   "outputs": [
    {
     "data": {
      "text/plain": [
       "array([ 90, 100, 120, 150])"
      ]
     },
     "execution_count": 32,
     "metadata": {},
     "output_type": "execute_result"
    }
   ],
   "source": [
    "np.setdiff1d(y,x)"
   ]
  },
  {
   "cell_type": "markdown",
   "id": "95f744fc-6ae3-45e8-bc20-41b0f4071c3d",
   "metadata": {},
   "source": [
    "## Addition of NumPy Arrays"
   ]
  },
  {
   "cell_type": "code",
   "execution_count": 4,
   "id": "6bc7c3a8-9e8e-4378-89bf-e29596475a89",
   "metadata": {},
   "outputs": [
    {
     "data": {
      "text/plain": [
       "100"
      ]
     },
     "execution_count": 4,
     "metadata": {},
     "output_type": "execute_result"
    }
   ],
   "source": [
    "import numpy as np\n",
    "t=np.array([10,20])\n",
    "s=np.array([30,40])\n",
    "\n",
    "np.sum([t,s])"
   ]
  },
  {
   "cell_type": "code",
   "execution_count": 5,
   "id": "02916d08-c073-4c94-95d3-b608745792bc",
   "metadata": {},
   "outputs": [
    {
     "data": {
      "text/plain": [
       "array([40, 60])"
      ]
     },
     "execution_count": 5,
     "metadata": {},
     "output_type": "execute_result"
    }
   ],
   "source": [
    "np.sum([t,s],axis=0)"
   ]
  },
  {
   "cell_type": "code",
   "execution_count": 6,
   "id": "133918b8-d8bc-4e6f-9d12-9bbf389ae601",
   "metadata": {},
   "outputs": [
    {
     "data": {
      "text/plain": [
       "array([30, 70])"
      ]
     },
     "execution_count": 6,
     "metadata": {},
     "output_type": "execute_result"
    }
   ],
   "source": [
    "np.sum([t,s],axis=1)"
   ]
  },
  {
   "cell_type": "markdown",
   "id": "2ba31be4-79ab-429e-90b1-411af33ab481",
   "metadata": {},
   "source": [
    "## NumPy Array Mathematics\n"
   ]
  },
  {
   "cell_type": "code",
   "execution_count": 7,
   "id": "06308d17-b33a-43e6-9645-19f1f318bffe",
   "metadata": {},
   "outputs": [
    {
     "data": {
      "text/plain": [
       "11"
      ]
     },
     "execution_count": 7,
     "metadata": {},
     "output_type": "execute_result"
    }
   ],
   "source": [
    "p=np.array([10,20,40])\n",
    "p[0]+1"
   ]
  },
  {
   "cell_type": "code",
   "execution_count": 8,
   "id": "c78f7091-6dc6-47c5-85b1-57e2a9c255cb",
   "metadata": {},
   "outputs": [
    {
     "data": {
      "text/plain": [
       "array([ 5., 10., 20.])"
      ]
     },
     "execution_count": 8,
     "metadata": {},
     "output_type": "execute_result"
    }
   ],
   "source": [
    "p/2"
   ]
  },
  {
   "cell_type": "code",
   "execution_count": 9,
   "id": "cdbc7d3d-a4ca-41ef-8b28-722f822cbd92",
   "metadata": {},
   "outputs": [
    {
     "data": {
      "text/plain": [
       "array([20, 40, 80])"
      ]
     },
     "execution_count": 9,
     "metadata": {},
     "output_type": "execute_result"
    }
   ],
   "source": [
    "p*2"
   ]
  },
  {
   "cell_type": "code",
   "execution_count": 10,
   "id": "d3d114ca-8b1d-44d4-bfb5-bd4266fce422",
   "metadata": {},
   "outputs": [
    {
     "data": {
      "text/plain": [
       "array([ 8, 18, 38])"
      ]
     },
     "execution_count": 10,
     "metadata": {},
     "output_type": "execute_result"
    }
   ],
   "source": [
    "p-2"
   ]
  },
  {
   "cell_type": "markdown",
   "id": "6ed148c5-88a1-4b1e-b2f1-2103fb9fb736",
   "metadata": {},
   "source": [
    "## NumPy math function"
   ]
  },
  {
   "cell_type": "code",
   "execution_count": 11,
   "id": "c1c17442-a1b3-45d3-937a-5382c7d2d8ba",
   "metadata": {},
   "outputs": [
    {
     "data": {
      "text/plain": [
       "30.0"
      ]
     },
     "execution_count": 11,
     "metadata": {},
     "output_type": "execute_result"
    }
   ],
   "source": [
    "import numpy as np\n",
    "nn=np.array([10,20,30,60])\n",
    "\n",
    "np.mean(nn)"
   ]
  },
  {
   "cell_type": "code",
   "execution_count": 12,
   "id": "7f60d3d2-67a6-4303-927a-918ad13738f7",
   "metadata": {},
   "outputs": [
    {
     "data": {
      "text/plain": [
       "18.708286933869708"
      ]
     },
     "execution_count": 12,
     "metadata": {},
     "output_type": "execute_result"
    }
   ],
   "source": [
    "np.std(nn)"
   ]
  },
  {
   "cell_type": "code",
   "execution_count": 13,
   "id": "c85c9634-fa34-4496-b2b1-3e7b56ad1259",
   "metadata": {},
   "outputs": [
    {
     "data": {
      "text/plain": [
       "25.0"
      ]
     },
     "execution_count": 13,
     "metadata": {},
     "output_type": "execute_result"
    }
   ],
   "source": [
    "np.median(nn)"
   ]
  },
  {
   "cell_type": "markdown",
   "id": "43261d38-efda-433e-86fd-5b696a0ac9b9",
   "metadata": {},
   "source": [
    "## "
   ]
  }
 ],
 "metadata": {
  "kernelspec": {
   "display_name": "Python 3 (ipykernel)",
   "language": "python",
   "name": "python3"
  },
  "language_info": {
   "codemirror_mode": {
    "name": "ipython",
    "version": 3
   },
   "file_extension": ".py",
   "mimetype": "text/x-python",
   "name": "python",
   "nbconvert_exporter": "python",
   "pygments_lexer": "ipython3",
   "version": "3.11.7"
  }
 },
 "nbformat": 4,
 "nbformat_minor": 5
}
