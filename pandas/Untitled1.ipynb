{
 "cells": [
  {
   "cell_type": "code",
   "execution_count": 1,
   "id": "be2ac21a-2761-4740-ac91-25ab1f95bfcb",
   "metadata": {},
   "outputs": [],
   "source": [
    "import numpy as np\n",
    "from matplotlib import pyplot as pit"
   ]
  },
  {
   "cell_type": "code",
   "execution_count": null,
   "id": "84d2aca4-eac1-4296-ad34-462ef1ba88dd",
   "metadata": {},
   "outputs": [],
   "source": []
  }
 ],
 "metadata": {
  "kernelspec": {
   "display_name": "Python 3 (ipykernel)",
   "language": "python",
   "name": "python3"
  },
  "language_info": {
   "codemirror_mode": {
    "name": "ipython",
    "version": 3
   },
   "file_extension": ".py",
   "mimetype": "text/x-python",
   "name": "python",
   "nbconvert_exporter": "python",
   "pygments_lexer": "ipython3",
   "version": "3.11.7"
  }
 },
 "nbformat": 4,
 "nbformat_minor": 5
}
